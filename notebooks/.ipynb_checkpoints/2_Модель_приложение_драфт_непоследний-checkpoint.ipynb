{
 "cells": [
  {
   "cell_type": "code",
   "execution_count": 1,
   "id": "18df291b-f4f0-4e86-b74e-e22a1ece4ff2",
   "metadata": {},
   "outputs": [],
   "source": [
    "import pandas as pd\n",
    "import numpy as np\n",
    "\n",
    "import seaborn as sns\n",
    "import matplotlib.pyplot as plt\n",
    "\n",
    "pd.set_option('display.max_colwidth', None)\n",
    "\n",
    "import warnings\n",
    "warnings.filterwarnings(\"ignore\", category=FutureWarning)"
   ]
  },
  {
   "cell_type": "code",
   "execution_count": 2,
   "id": "5afbb93f-8eaa-4cfc-a0f0-56386215c4ef",
   "metadata": {},
   "outputs": [
    {
     "data": {
      "text/html": [
       "<div>\n",
       "<style scoped>\n",
       "    .dataframe tbody tr th:only-of-type {\n",
       "        vertical-align: middle;\n",
       "    }\n",
       "\n",
       "    .dataframe tbody tr th {\n",
       "        vertical-align: top;\n",
       "    }\n",
       "\n",
       "    .dataframe thead th {\n",
       "        text-align: right;\n",
       "    }\n",
       "</style>\n",
       "<table border=\"1\" class=\"dataframe\">\n",
       "  <thead>\n",
       "    <tr style=\"text-align: right;\">\n",
       "      <th></th>\n",
       "      <th>text</th>\n",
       "      <th>duration</th>\n",
       "      <th>sum</th>\n",
       "      <th>okpd</th>\n",
       "    </tr>\n",
       "    <tr>\n",
       "      <th>0</th>\n",
       "      <th></th>\n",
       "      <th></th>\n",
       "      <th></th>\n",
       "      <th></th>\n",
       "    </tr>\n",
       "  </thead>\n",
       "  <tbody>\n",
       "    <tr>\n",
       "      <th>1383673</th>\n",
       "      <td>Выполнение работ по разработке проектно-сметной документации по благоустройству территории, расположенной по адресу: г.Москва, ЗАО, район Филевский парк, придомовая территория по ул. Новозаводская</td>\n",
       "      <td>15.0</td>\n",
       "      <td>2454360.77</td>\n",
       "      <td>71.1</td>\n",
       "    </tr>\n",
       "    <tr>\n",
       "      <th>503416</th>\n",
       "      <td>Выполнение работ по ремонту кровельного покрытия</td>\n",
       "      <td>7.0</td>\n",
       "      <td>1377000.00</td>\n",
       "      <td>41.2</td>\n",
       "    </tr>\n",
       "    <tr>\n",
       "      <th>587146</th>\n",
       "      <td>Выполнение работ по капитальному ремонту асфальтобетонного покрытия дорог в городе Боровск 2016 год (Реестровый номер: 805Э-02/16сб)</td>\n",
       "      <td>13.0</td>\n",
       "      <td>11470841.59</td>\n",
       "      <td>42.1</td>\n",
       "    </tr>\n",
       "    <tr>\n",
       "      <th>870684</th>\n",
       "      <td>Оказание услуг по благоустройству и озеленению территорий, прилегающих к административным зданиям Правительства Тверской области, для нужд ГБУ «УЭОАЗП» на 2017 год</td>\n",
       "      <td>15.0</td>\n",
       "      <td>4915949.82</td>\n",
       "      <td>71.1</td>\n",
       "    </tr>\n",
       "    <tr>\n",
       "      <th>2251621</th>\n",
       "      <td>Выполнение комплекса работ по содержанию муниципальных автомобильных дорог общего пользования местного значения Заветинского района Ростовской области в 2018 году</td>\n",
       "      <td>15.0</td>\n",
       "      <td>500000.00</td>\n",
       "      <td>42.1</td>\n",
       "    </tr>\n",
       "    <tr>\n",
       "      <th>447681</th>\n",
       "      <td>Снятие, поверка  и монтаж приборов учета тепловой энергии, горячего и холодного водоснабжения</td>\n",
       "      <td>7.0</td>\n",
       "      <td>84384.67</td>\n",
       "      <td>43.2</td>\n",
       "    </tr>\n",
       "    <tr>\n",
       "      <th>984882</th>\n",
       "      <td>Выполнение работ по обеспечению безопасности дорожного движения на территории городского округа Рошаль в 2017 году</td>\n",
       "      <td>15.0</td>\n",
       "      <td>873610.00</td>\n",
       "      <td>42.1</td>\n",
       "    </tr>\n",
       "    <tr>\n",
       "      <th>579515</th>\n",
       "      <td>Выполнение работ по модернизации конференц-системы зала заседаний Волгоградской городской Думы</td>\n",
       "      <td>13.0</td>\n",
       "      <td>8574521.32</td>\n",
       "      <td>43.2</td>\n",
       "    </tr>\n",
       "    <tr>\n",
       "      <th>997355</th>\n",
       "      <td>Образование 30 (тридцати) земельных участков  из земель государственная собственность на которые не разграничена</td>\n",
       "      <td>7.0</td>\n",
       "      <td>74400.00</td>\n",
       "      <td>71.1</td>\n",
       "    </tr>\n",
       "    <tr>\n",
       "      <th>247698</th>\n",
       "      <td>Выполнение работ по капитальному ремонту лифтовой шахты с заменой лифтового оборудования в здании ГБУЗ «Новокузнецкая городская клиническая больница №29 имени А.А.Луцика»</td>\n",
       "      <td>5.0</td>\n",
       "      <td>3502658.40</td>\n",
       "      <td>43.2</td>\n",
       "    </tr>\n",
       "  </tbody>\n",
       "</table>\n",
       "</div>"
      ],
      "text/plain": [
       "                                                                                                                                                                                                         text  \\\n",
       "0                                                                                                                                                                                                               \n",
       "1383673  Выполнение работ по разработке проектно-сметной документации по благоустройству территории, расположенной по адресу: г.Москва, ЗАО, район Филевский парк, придомовая территория по ул. Новозаводская   \n",
       "503416                                                                                                                                                       Выполнение работ по ремонту кровельного покрытия   \n",
       "587146                                                                   Выполнение работ по капитальному ремонту асфальтобетонного покрытия дорог в городе Боровск 2016 год (Реестровый номер: 805Э-02/16сб)   \n",
       "870684                                    Оказание услуг по благоустройству и озеленению территорий, прилегающих к административным зданиям Правительства Тверской области, для нужд ГБУ «УЭОАЗП» на 2017 год   \n",
       "2251621                                    Выполнение комплекса работ по содержанию муниципальных автомобильных дорог общего пользования местного значения Заветинского района Ростовской области в 2018 году   \n",
       "447681                                                                                                          Снятие, поверка  и монтаж приборов учета тепловой энергии, горячего и холодного водоснабжения   \n",
       "984882                                                                                     Выполнение работ по обеспечению безопасности дорожного движения на территории городского округа Рошаль в 2017 году   \n",
       "579515                                                                                                         Выполнение работ по модернизации конференц-системы зала заседаний Волгоградской городской Думы   \n",
       "997355                                                                                       Образование 30 (тридцати) земельных участков  из земель государственная собственность на которые не разграничена   \n",
       "247698                             Выполнение работ по капитальному ремонту лифтовой шахты с заменой лифтового оборудования в здании ГБУЗ «Новокузнецкая городская клиническая больница №29 имени А.А.Луцика»   \n",
       "\n",
       "         duration          sum  okpd  \n",
       "0                                     \n",
       "1383673      15.0   2454360.77  71.1  \n",
       "503416        7.0   1377000.00  41.2  \n",
       "587146       13.0  11470841.59  42.1  \n",
       "870684       15.0   4915949.82  71.1  \n",
       "2251621      15.0    500000.00  42.1  \n",
       "447681        7.0     84384.67  43.2  \n",
       "984882       15.0    873610.00  42.1  \n",
       "579515       13.0   8574521.32  43.2  \n",
       "997355        7.0     74400.00  71.1  \n",
       "247698        5.0   3502658.40  43.2  "
      ]
     },
     "execution_count": 2,
     "metadata": {},
     "output_type": "execute_result"
    }
   ],
   "source": [
    "df0 = pd.read_csv('df0.csv', index_col=0)\n",
    "df0.sample(10, random_state = 10)"
   ]
  },
  {
   "cell_type": "code",
   "execution_count": 3,
   "id": "5fddf562-ecfb-4699-9f8d-ef38e902397a",
   "metadata": {},
   "outputs": [],
   "source": [
    "#из предыдущей главы\n",
    "okpd_dict = {'43.2': 'Работы строительные специализированные',\n",
    "             '71.1': 'Услуги в области архитектуры и инженерно-технического проектирования, технических испытаний, исследований и анализа',\n",
    "             '42.1': 'Сооружения и строительные работы в области гражданского строительства',\n",
    "             '41.2': 'Здания и работы по возведению зданий'}"
   ]
  },
  {
   "cell_type": "code",
   "execution_count": 4,
   "id": "f7b40082-3da8-46dd-adcd-9e843735b052",
   "metadata": {},
   "outputs": [
    {
     "name": "stdout",
     "output_type": "stream",
     "text": [
      "Словарь окпд2=метка класса  {41.2: 0, 42.1: 1, 43.2: 2, 71.1: 3}\n"
     ]
    }
   ],
   "source": [
    "from sklearn.preprocessing import LabelEncoder\n",
    "\n",
    "label_encoder = LabelEncoder()\n",
    "df0['label'] = label_encoder.fit_transform(df0['okpd'])\n",
    "\n",
    "labels_dict = dict(zip(label_encoder.classes_, range(len(label_encoder.classes_))))\n",
    "print(\"Словарь окпд2=метка класса \", labels_dict)"
   ]
  },
  {
   "cell_type": "code",
   "execution_count": 5,
   "id": "7a23adee-cdf3-46a3-b463-7796cf15855c",
   "metadata": {},
   "outputs": [
    {
     "name": "stdout",
     "output_type": "stream",
     "text": [
      "Словарь метка класса: расшифровка ОКПД \n",
      "(0, 'Здания и работы по возведению зданий')\n",
      "(1, 'Сооружения и строительные работы в области гражданского строительства')\n",
      "(2, 'Работы строительные специализированные')\n",
      "(3, 'Услуги в области архитектуры и инженерно-технического проектирования, технических испытаний, исследований и анализа')\n"
     ]
    }
   ],
   "source": [
    "label2okpdname = {j: okpd_dict[str(i)] for i,j in labels_dict.items()}\n",
    "print(\"Словарь метка класса: расшифровка ОКПД \")\n",
    "print(*label2okpdname.items(), sep='\\n')"
   ]
  },
  {
   "cell_type": "code",
   "execution_count": 6,
   "id": "9e1ab497-c4ee-46ce-9bd0-0a8c37119516",
   "metadata": {},
   "outputs": [],
   "source": [
    "from sklearn.model_selection import train_test_split\n",
    "\n",
    "from sklearn.metrics import accuracy_score, f1_score"
   ]
  },
  {
   "cell_type": "code",
   "execution_count": 7,
   "id": "b50c29cf-3d32-48f7-a55f-74eebfae394a",
   "metadata": {},
   "outputs": [],
   "source": [
    "import torch\n",
    "import torch.nn as nn\n",
    "from torch.utils.data import Dataset, DataLoader\n",
    "import torch.nn.functional as F\n",
    "\n",
    "import numpy as np\n",
    "import matplotlib.pyplot as plt\n",
    "\n",
    "from tqdm.auto import tqdm\n",
    "\n",
    "from nltk.tokenize import sent_tokenize, word_tokenize\n",
    "import nltk\n",
    "\n",
    "from collections import Counter\n",
    "from typing import List\n",
    "\n",
    "\n",
    "# import nltk\n",
    "# nltk.download('punkt')\n",
    "\n",
    "import re\n",
    "import string"
   ]
  },
  {
   "cell_type": "code",
   "execution_count": 8,
   "id": "5f031014-5fb6-454a-9c05-a938d78d5632",
   "metadata": {},
   "outputs": [
    {
     "data": {
      "application/vnd.jupyter.widget-view+json": {
       "model_id": "2936b96d645640569d4099b1909a83a2",
       "version_major": 2,
       "version_minor": 0
      },
      "text/plain": [
       "  0%|          | 0/61557 [00:00<?, ?it/s]"
      ]
     },
     "metadata": {},
     "output_type": "display_data"
    },
    {
     "name": "stdout",
     "output_type": "stream",
     "text": [
      "Всего предложений: 61557\n",
      "Пример токенизированного:  ['оказание', 'услуг', 'по', 'содержанию', 'искусственных', 'сооружений', 'на', 'автомобильной', 'дороге', 'а', '376', 'хабаровск', 'лидога', 'ванино', 'комсомольск', 'на', 'амуре', 'хабаровский', 'край']\n"
     ]
    }
   ],
   "source": [
    "objects = []\n",
    "\n",
    "for sentence in tqdm(df0['text']):\n",
    "    sentence = re.sub(r'[^\\w\\s]', ' ', sentence.lower())\n",
    "    tokens = word_tokenize(sentence, language='russian')\n",
    "    filtered_tokens = [token for token in tokens if token.isalpha()]\n",
    "    objects.append(tokens)\n",
    "\n",
    "print(\"Всего предложений:\", len(objects))\n",
    "print('Пример токенизированного: ',objects[101])"
   ]
  },
  {
   "cell_type": "code",
   "execution_count": 9,
   "id": "b1d93b5c-9d61-44da-8bc4-b8bc9fab24bb",
   "metadata": {},
   "outputs": [
    {
     "data": {
      "application/vnd.jupyter.widget-view+json": {
       "model_id": "8850269e8af14eadb4e9d92bcbbb8aae",
       "version_major": 2,
       "version_minor": 0
      },
      "text/plain": [
       "  0%|          | 0/61557 [00:00<?, ?it/s]"
      ]
     },
     "metadata": {},
     "output_type": "display_data"
    },
    {
     "name": "stdout",
     "output_type": "stream",
     "text": [
      "Всего слов: 42448\n",
      "Топ 10 встречающихся слов ('по', 50419) ('в', 33391) ('работ', 27115) ('выполнение', 25630) ('и', 25318) ('на', 19780) ('ул', 15172) ('ремонт', 12057) ('ремонту', 11378) ('г', 10573)\n"
     ]
    }
   ],
   "source": [
    "words = Counter()\n",
    "\n",
    "for obj in tqdm(objects):\n",
    "    for word in obj:\n",
    "        words[word] += 1\n",
    "\n",
    "print('Всего слов:', len(words))\n",
    "print('Топ 10 встречающихся слов', *words.most_common(10))"
   ]
  },
  {
   "cell_type": "code",
   "execution_count": 10,
   "id": "4c522872-4f57-498a-a975-5ad7a3c480d1",
   "metadata": {},
   "outputs": [],
   "source": [
    "vocab = set(['<unk>', '<bos>', '<eos>', '<pad>'])\n",
    "vocab_size = 30000\n",
    "words_common = set(word for word,_ in words.most_common(vocab_size))\n",
    "vocab = vocab.union(words_common)\n",
    "\n",
    "word2ind = {w: i for i, w in enumerate(vocab)}\n",
    "ind2word = {i: w for w, i in word2ind.items()}"
   ]
  },
  {
   "cell_type": "code",
   "execution_count": 11,
   "id": "791d1a63-d512-40e3-a981-4ea8d36a1594",
   "metadata": {},
   "outputs": [],
   "source": [
    "import pickle\n",
    "\n",
    "with open('word2ind.pkl', 'wb') as f:\n",
    "    pickle.dump(word2ind, f)\n",
    "\n",
    "# with open('word2ind.pkl', 'rb') as f:\n",
    "#     word2ind = pickle.load(f)\n"
   ]
  },
  {
   "cell_type": "code",
   "execution_count": null,
   "id": "cfc171a7-9807-4ea4-b1d9-ea95214e0986",
   "metadata": {},
   "outputs": [],
   "source": []
  },
  {
   "cell_type": "code",
   "execution_count": 12,
   "id": "50b2cf2f-4cf0-4bce-bc2b-e9cc0bc97c19",
   "metadata": {},
   "outputs": [],
   "source": [
    "class FullDataset:\n",
    "    def __init__(self, data, word2ind=word2ind, has_labels = True):\n",
    "        self.data = data\n",
    "        self.unk_id = word2ind['<unk>']\n",
    "        self.bos_id = word2ind['<bos>']\n",
    "        self.eos_id = word2ind['<eos>']\n",
    "        self.pad_id = word2ind['<pad>']\n",
    "        self.word2ind = word2ind\n",
    "        self.has_labels = has_labels\n",
    "\n",
    "    def __getitem__(self, idx: int) -> dict:\n",
    "        processed_text = self.data[idx]['text'].lower().translate(\n",
    "            str.maketrans('', '', string.punctuation)\n",
    "        )\n",
    "\n",
    "        tokenized_sentence = [self.bos_id]\n",
    "        tokenized_sentence += [\n",
    "            self.word2ind.get(word, self.unk_id) for word in word_tokenize(processed_text, language=\"russian\")\n",
    "            if not word.isdigit()\n",
    "        ]\n",
    "        tokenized_sentence += [self.eos_id]\n",
    "\n",
    "        if self.has_labels:\n",
    "\n",
    "          train_sample = {\n",
    "              \"text\": tokenized_sentence,\n",
    "              \"label\": self.data[idx]['label'],\n",
    "              \"duration\": self.data[idx]['duration'],  # Добавляем длительность контракта\n",
    "              \"sum\": self.data[idx]['sum']  # Добавляем стоимость контракта\n",
    "          }\n",
    "        else:\n",
    "          train_sample = {\n",
    "                \"input_ids\": tokenized_sentence,\n",
    "                \"duration\": self.data[idx]['duration'],  # Добавляем длительность контракта\n",
    "                \"sum\": self.data[idx]['sum']  # Добавляем стоимость контракта\n",
    "            }\n",
    "\n",
    "        return train_sample\n",
    "\n",
    "    def __len__(self) -> int:\n",
    "        return len(self.data)\n",
    "\n",
    "\n",
    "def collate_fn_with_padding(input_batch, word2ind = word2ind, pad_id=None, max_len=256):\n",
    "    if pad_id is None:\n",
    "        pad_id = word2ind['<pad>']\n",
    "\n",
    "    # Подготовка для заполнения последовательностей\n",
    "    if 'text' in input_batch[0]:\n",
    "        # Если есть текст, работаем с текстом\n",
    "        seq_lens = [len(x['text']) for x in input_batch]  # Длина последовательностей\n",
    "        new_batch_text = [x['text'] for x in input_batch]\n",
    "    else:\n",
    "        # Если есть input_ids, работаем с ними\n",
    "        seq_lens = [len(x['input_ids']) for x in input_batch]  # Длина последовательностей\n",
    "        new_batch_text = [x['input_ids'] for x in input_batch]\n",
    "\n",
    "    max_seq_len = min(max(seq_lens), max_len)\n",
    "\n",
    "    padded_batch_text = []\n",
    "    new_batch_duration = []\n",
    "    new_batch_sum = []\n",
    "    labels = []\n",
    "\n",
    "    # Обрабатываем каждую последовательность\n",
    "    for i, sequence in enumerate(input_batch):\n",
    "        # Обрезка или дополнение последовательностей\n",
    "        text = new_batch_text[i][:max_seq_len]\n",
    "        text += [pad_id] * (max_seq_len - len(text))  # Добавление паддинга\n",
    "\n",
    "        padded_batch_text.append(text)\n",
    "        new_batch_duration.append(sequence['duration'])\n",
    "        new_batch_sum.append(sequence['sum'])\n",
    "\n",
    "        if 'label' in sequence:\n",
    "            labels.append(sequence['label'])\n",
    "\n",
    "    # Преобразуем списки в тензоры\n",
    "    sequences = torch.LongTensor(padded_batch_text).to(device)\n",
    "    durations = torch.FloatTensor(new_batch_duration).to(device)\n",
    "    sums = torch.FloatTensor(new_batch_sum).to(device)\n",
    "\n",
    "    # Проверка наличия меток\n",
    "    if labels:\n",
    "        labels = torch.LongTensor(labels).to(device)\n",
    "        return {\n",
    "            'input_ids': sequences,\n",
    "            'duration': durations,\n",
    "            'sum': sums,\n",
    "            'label': labels\n",
    "        }\n",
    "    else:\n",
    "        return {\n",
    "            'input_ids': sequences,\n",
    "            'duration': durations,\n",
    "            'sum': sums\n",
    "        }\n"
   ]
  },
  {
   "cell_type": "code",
   "execution_count": 13,
   "id": "d276270c-8fb7-4065-a9ec-f51cf12a60ed",
   "metadata": {},
   "outputs": [
    {
     "name": "stdout",
     "output_type": "stream",
     "text": [
      "Обучающая выборка, train_dataset:  (49245, 4)\n",
      "Валидационная выборка, valid_dataset:  (6156, 4)\n",
      "Тестовая выборка, test_dataset:  (6156, 4)\n"
     ]
    }
   ],
   "source": [
    "train_dataset, valid_dataset = train_test_split(df0.drop(columns=['okpd']), test_size=0.2, shuffle = True, random_state = 33)\n",
    "valid_dataset, test_dataset = train_test_split(valid_dataset, test_size=0.5, random_state = 33)\n",
    "\n",
    "print('Обучающая выборка, train_dataset: ', train_dataset.shape)\n",
    "print('Валидационная выборка, valid_dataset: ', valid_dataset.shape)\n",
    "print('Тестовая выборка, test_dataset: ', test_dataset.shape)"
   ]
  },
  {
   "cell_type": "code",
   "execution_count": 14,
   "id": "d3a9872d-a3da-4628-bc5c-9501657b7d7c",
   "metadata": {},
   "outputs": [],
   "source": [
    "train_dataset = FullDataset(train_dataset.to_dict(orient='records'), word2ind)\n",
    "eval_dataset = FullDataset(valid_dataset.to_dict(orient='records'), word2ind)\n",
    "test_dataset = FullDataset(test_dataset.to_dict(orient='records'), word2ind)\n",
    "\n",
    "\n",
    "batch_size = 32\n",
    "train_dataloader = DataLoader(train_dataset, shuffle=True, collate_fn=collate_fn_with_padding, batch_size=batch_size)\n",
    "eval_dataloader = DataLoader(eval_dataset, shuffle=False, collate_fn=collate_fn_with_padding, batch_size=batch_size)\n",
    "test_dataloader = DataLoader(test_dataset, shuffle=False, collate_fn=collate_fn_with_padding, batch_size=batch_size)"
   ]
  },
  {
   "cell_type": "code",
   "execution_count": 15,
   "id": "de1998c8-92b3-4909-a30c-69b680bb155a",
   "metadata": {},
   "outputs": [],
   "source": [
    "import seaborn as sns\n",
    "\n",
    "sns.set(style=\"darkgrid\")\n",
    "paired_colors = sns.color_palette(\"Paired\", 4)\n",
    "paired_colors\n",
    "\n",
    "\n",
    "def results_viz(model_name, num_epoch, acc_type, losses_type, best_params, output_name=None):\n",
    "    \"\"\"\n",
    "    Визуализация результатов\n",
    "    \"\"\"\n",
    "    epochs = np.arange(num_epoch)\n",
    "\n",
    "    plt.figure(figsize = (12,4))\n",
    "\n",
    "    plt.subplot(1,2,1)\n",
    "    for (i, name) in enumerate(list(acc_type.keys())):\n",
    "        accuracies=np.array(acc_type[name]) * 100\n",
    "        acc_train, acc_valid = accuracies.T\n",
    "\n",
    "        plt.plot(epochs, acc_train, color=paired_colors[i*2], label=f\"{name} - train\", marker='o', markersize=4, linewidth=2.5)\n",
    "        plt.plot(epochs, acc_valid, color=paired_colors[i*2+1], label=f\"{name} - valid\", marker='o', markersize=4, linewidth=2.5)\n",
    "\n",
    "        if best_params['aggregation_type'] == name:\n",
    "            plt.text(best_params['epoch'], max(acc_valid)+0.2, f'{max(acc_valid):.2f}', fontsize=10, color=paired_colors[i*2+1], ha='center')\n",
    "        print(f\"Лучшая accuracy для подхода {name}: {max(acc_valid):.2f} valid, {max(acc_train):.2f} train\")\n",
    "    plt.title('Accuracy (Точность)')\n",
    "    plt.xlabel(\"Epoch (Эпоха обучения)\")\n",
    "    plt.ylabel(\"Accuracy (%)\")\n",
    "    plt.legend(loc='upper left', bbox_to_anchor=(1, 0.75))\n",
    "    plt.xticks(epochs, labels=[f'{epoch:.0f}' for epoch in epochs], fontsize=8)\n",
    "\n",
    "\n",
    "    plt.subplot(1,2,2)\n",
    "    for (i, name) in enumerate(list(losses_type.keys())):\n",
    "        losses = losses_type[name]\n",
    "        plt.plot(np.arange(len(losses)), losses, color=paired_colors[i*2], label=name, marker='o', markersize=4, linewidth=2.5)\n",
    "    plt.title('Losses (Функция потери)')\n",
    "    plt.xlabel(\"Epoch (Эпоха обучения)\")\n",
    "    plt.ylabel(\"Loss\")\n",
    "    plt.suptitle(model_name)\n",
    "    plt.xticks(epochs, labels=[f'{epoch:.0f}' for epoch in epochs], fontsize=8)\n",
    "\n",
    "    plt.tight_layout(rect=[0, 0, 0.85, 1])\n",
    "    if output_name:\n",
    "        plt.savefig(f'{output_name}.png')\n",
    "\n",
    "    plt.show()\n",
    "\n",
    "#Про визуализацию\n",
    "# Эпохи (n) нумеруются  0...n-1\n",
    "# Подразумевается, что результаты Accuracy\\Losses считаются один раз в конце эпохи\n"
   ]
  },
  {
   "cell_type": "code",
   "execution_count": 16,
   "id": "48521870-0d7c-4899-a959-0e6fe46b829f",
   "metadata": {},
   "outputs": [],
   "source": [
    "def evaluate(model, eval_dataloader) -> float:\n",
    "    predictions = []\n",
    "    target = []\n",
    "    with torch.no_grad():\n",
    "        for batch in eval_dataloader:\n",
    "            logits = model({\n",
    "                'input_ids': batch['input_ids'],\n",
    "                'duration': batch['duration'],\n",
    "                'sum': batch['sum']\n",
    "            })\n",
    "            predictions.append(logits.argmax(dim=1))\n",
    "            target.append(batch['label'])\n",
    "\n",
    "    predictions = torch.cat(predictions)\n",
    "    target = torch.cat(target)\n",
    "    accuracy = (predictions == target).float().mean().item()\n",
    "\n",
    "    return accuracy, predictions\n"
   ]
  },
  {
   "cell_type": "code",
   "execution_count": 17,
   "id": "b9d22d54-8826-4cd2-87e9-5b4efc647537",
   "metadata": {},
   "outputs": [
    {
     "name": "stdout",
     "output_type": "stream",
     "text": [
      "Используемое устройство: mps\n"
     ]
    }
   ],
   "source": [
    "device = 'mps' if torch.backends.mps.is_available() else 'cuda' if torch.cuda.is_available() else 'cpu'\n",
    "print(f\"Используемое устройство: {device}\")"
   ]
  },
  {
   "cell_type": "code",
   "execution_count": 18,
   "id": "1077ddb0-ea29-4491-9e07-dde810d09bd2",
   "metadata": {},
   "outputs": [],
   "source": [
    "class FullWordLM_LSTM(nn.Module):\n",
    "    def __init__(\n",
    "        self, hidden_dim: int, vocab_size: int, num_classes: int = 4,\n",
    "        aggregation_type: str = 'max'\n",
    "    ):\n",
    "        super().__init__()\n",
    "        self.embedding = nn.Embedding(vocab_size, hidden_dim)\n",
    "        self.rnn = nn.LSTM(hidden_dim, hidden_dim, batch_first=True)\n",
    "        self.text_linear = nn.Linear(hidden_dim, hidden_dim)\n",
    "\n",
    "        self.numeric_linear = nn.Linear(2, hidden_dim)  # 2 признака: duration и sum\n",
    "        self.projection = nn.Linear(hidden_dim * 2, num_classes)  # Увеличили размерность для текста + числовых признаков\n",
    "        self.non_lin = nn.Tanh()\n",
    "        self.dropout = nn.Dropout(p=0.1)\n",
    "        self.aggregation_type = aggregation_type\n",
    "\n",
    "    def forward(self, input_batch) -> torch.Tensor:\n",
    "        embeddings = self.embedding(input_batch['input_ids'])  # [batch_size, seq_len, hidden_dim]\n",
    "        rnn_output, _ = self.rnn(embeddings)  # [batch_size, seq_len, hidden_dim]\n",
    "\n",
    "        if self.aggregation_type == 'max':\n",
    "            rnn_output = rnn_output.max(dim=1)[0]  # [batch_size, hidden_dim]\n",
    "        elif self.aggregation_type == 'mean':\n",
    "            rnn_output = rnn_output.mean(dim=1)  # [batch_size, hidden_dim]\n",
    "        else:\n",
    "            raise ValueError(\"Invalid aggregation_type\")\n",
    "\n",
    "        text_features = self.dropout(self.text_linear(self.non_lin(rnn_output)))  # [batch_size, hidden_dim]\n",
    "        numeric_features = torch.stack([input_batch['duration'], input_batch['sum']], dim=1)  # [batch_size, 2]\n",
    "        numeric_features = self.dropout(self.non_lin(self.numeric_linear(numeric_features)))  # [batch_size, hidden_dim]\n",
    "        combined_features = torch.cat([text_features, numeric_features], dim=1)  # [batch_size, hidden_dim * 2]\n",
    "        prediction = self.projection(self.non_lin(combined_features))  # [batch_size, num_classes]\n",
    "\n",
    "        return prediction\n",
    "\n",
    "\n",
    "    def predict_one(self, text: str, duration: float, sum_value: float, word2ind: dict, max_len: int = 256) -> str:\n",
    "        \"\"\"\n",
    "        Прогнозирует класс и вероятности для одного примера с использованием текста, duration и sum.\n",
    "        \"\"\"\n",
    "\n",
    "        processed_text = text.lower().translate(str.maketrans('', '', string.punctuation))\n",
    "        tokenized_sentence = [word2ind.get(word, word2ind.get('<unk>')) for word in word_tokenize(processed_text, language=\"russian\")]\n",
    "\n",
    "        bos_id = word2ind.get('<bos>')\n",
    "        eos_id = word2ind.get('<eos>')\n",
    "        tokenized_sentence = [bos_id] + tokenized_sentence\n",
    "\n",
    "        if len(tokenized_sentence) > max_len -1:\n",
    "            tokenized_sentence = tokenized_sentence[:max_len-1]\n",
    "        tokenized_sentence = tokenized_sentence + [eos_id]\n",
    "\n",
    "        input_ids = torch.tensor(tokenized_sentence).unsqueeze(0)\n",
    "        duration_tensor = torch.tensor([duration], dtype=torch.float32)\n",
    "        sum_tensor = torch.tensor([sum_value], dtype=torch.float32)\n",
    "\n",
    "        input_batch = {\n",
    "            'input_ids': input_ids.to(next(self.parameters()).device),  \n",
    "            'duration': duration_tensor.to(next(self.parameters()).device),\n",
    "            'sum': sum_tensor.to(next(self.parameters()).device)\n",
    "        }\n",
    "\n",
    "        self.eval()\n",
    "        logits = self.forward(input_batch)\n",
    "        probabilities = F.softmax(logits, dim=-1).squeeze(0) \n",
    "        predicted_class = torch.argmax(probabilities).item()\n",
    "        probabilities = probabilities.tolist()        \n",
    "        \n",
    "        return predicted_class, probabilities\n",
    "\n"
   ]
  },
  {
   "cell_type": "code",
   "execution_count": 19,
   "id": "06475334-0c0a-480a-b0a0-6ae4c7a69e5a",
   "metadata": {},
   "outputs": [
    {
     "name": "stdout",
     "output_type": "stream",
     "text": [
      "Обучение для типа аггрегации max\n"
     ]
    },
    {
     "data": {
      "application/vnd.jupyter.widget-view+json": {
       "model_id": "e58f2b6c3aad4ff6b1d37111e23975c8",
       "version_major": 2,
       "version_minor": 0
      },
      "text/plain": [
       "Эпоха обучения 0:   0%|          | 0/1539 [00:00<?, ?it/s]"
      ]
     },
     "metadata": {},
     "output_type": "display_data"
    },
    {
     "name": "stdout",
     "output_type": "stream",
     "text": [
      "Лучшая модель сохранена: эпоха 0, valid_accuracy 0.9271\n"
     ]
    },
    {
     "data": {
      "application/vnd.jupyter.widget-view+json": {
       "model_id": "faef49b35afe45d9b4e5287d429943e7",
       "version_major": 2,
       "version_minor": 0
      },
      "text/plain": [
       "Эпоха обучения 1:   0%|          | 0/1539 [00:00<?, ?it/s]"
      ]
     },
     "metadata": {},
     "output_type": "display_data"
    },
    {
     "name": "stdout",
     "output_type": "stream",
     "text": [
      "Лучшая модель сохранена: эпоха 1, valid_accuracy 0.9301\n"
     ]
    },
    {
     "data": {
      "application/vnd.jupyter.widget-view+json": {
       "model_id": "fa385d162ec94a12bf647409de8f0d77",
       "version_major": 2,
       "version_minor": 0
      },
      "text/plain": [
       "Эпоха обучения 2:   0%|          | 0/1539 [00:00<?, ?it/s]"
      ]
     },
     "metadata": {},
     "output_type": "display_data"
    },
    {
     "data": {
      "application/vnd.jupyter.widget-view+json": {
       "model_id": "38c5c965396d49d48193721b89392ae3",
       "version_major": 2,
       "version_minor": 0
      },
      "text/plain": [
       "Эпоха обучения 3:   0%|          | 0/1539 [00:00<?, ?it/s]"
      ]
     },
     "metadata": {},
     "output_type": "display_data"
    },
    {
     "data": {
      "application/vnd.jupyter.widget-view+json": {
       "model_id": "f79f4c3a9d064918b4d053592e91e37e",
       "version_major": 2,
       "version_minor": 0
      },
      "text/plain": [
       "Эпоха обучения 4:   0%|          | 0/1539 [00:00<?, ?it/s]"
      ]
     },
     "metadata": {},
     "output_type": "display_data"
    },
    {
     "name": "stdout",
     "output_type": "stream",
     "text": [
      "Обучение для типа аггрегации mean\n"
     ]
    },
    {
     "data": {
      "application/vnd.jupyter.widget-view+json": {
       "model_id": "91410c8fb5744222b5efbf721671e3e1",
       "version_major": 2,
       "version_minor": 0
      },
      "text/plain": [
       "Эпоха обучения 0:   0%|          | 0/1539 [00:00<?, ?it/s]"
      ]
     },
     "metadata": {},
     "output_type": "display_data"
    },
    {
     "data": {
      "application/vnd.jupyter.widget-view+json": {
       "model_id": "39d182db0f3349c0b5b30c40eb0d0360",
       "version_major": 2,
       "version_minor": 0
      },
      "text/plain": [
       "Эпоха обучения 1:   0%|          | 0/1539 [00:00<?, ?it/s]"
      ]
     },
     "metadata": {},
     "output_type": "display_data"
    },
    {
     "name": "stdout",
     "output_type": "stream",
     "text": [
      "Лучшая модель сохранена: эпоха 1, valid_accuracy 0.9318\n"
     ]
    },
    {
     "data": {
      "application/vnd.jupyter.widget-view+json": {
       "model_id": "459eb9465b1c43da9436b8ac458ebd53",
       "version_major": 2,
       "version_minor": 0
      },
      "text/plain": [
       "Эпоха обучения 2:   0%|          | 0/1539 [00:00<?, ?it/s]"
      ]
     },
     "metadata": {},
     "output_type": "display_data"
    },
    {
     "name": "stdout",
     "output_type": "stream",
     "text": [
      "Лучшая модель сохранена: эпоха 2, valid_accuracy 0.9334\n"
     ]
    },
    {
     "data": {
      "application/vnd.jupyter.widget-view+json": {
       "model_id": "0457acfc755b4260b5921b008dd1857a",
       "version_major": 2,
       "version_minor": 0
      },
      "text/plain": [
       "Эпоха обучения 3:   0%|          | 0/1539 [00:00<?, ?it/s]"
      ]
     },
     "metadata": {},
     "output_type": "display_data"
    },
    {
     "data": {
      "application/vnd.jupyter.widget-view+json": {
       "model_id": "78882afa4acc4343a0b270b656179f8d",
       "version_major": 2,
       "version_minor": 0
      },
      "text/plain": [
       "Эпоха обучения 4:   0%|          | 0/1539 [00:00<?, ?it/s]"
      ]
     },
     "metadata": {},
     "output_type": "display_data"
    },
    {
     "name": "stdout",
     "output_type": "stream",
     "text": [
      "Лучшая accuracy для подхода max: 93.01 valid, 98.72 train\n",
      "Лучшая accuracy для подхода mean: 93.34 valid, 98.65 train\n"
     ]
    },
    {
     "data": {
      "image/png": "[encoded data removed]",
      "text/plain": [
       "<Figure size 1200x400 with 2 Axes>"
      ]
     },
     "metadata": {},
     "output_type": "display_data"
    }
   ],
   "source": [
    "num_epoch = 5\n",
    "best_eval_acc = float('-inf')\n",
    "best_model_state = None\n",
    "save_path = f\"best_model.pt\"\n",
    "best_params = {'aggregation_type': None, 'epoch': None}\n",
    "\n",
    "losses_type = {}\n",
    "acc_type = {}\n",
    "\n",
    "for aggregation_type in ['max', 'mean']:\n",
    "    print(f\"Обучение для типа аггрегации {aggregation_type}\")\n",
    "    losses, acc = [], []\n",
    "    model = FullWordLM_LSTM(hidden_dim=256, num_classes=len(labels_dict), vocab_size=len(vocab),aggregation_type=aggregation_type).to(device)\n",
    "    criterion = nn.CrossEntropyLoss(ignore_index=word2ind['<pad>'])\n",
    "    optimizer = torch.optim.Adam(model.parameters())\n",
    "\n",
    "    for epoch in range(num_epoch):\n",
    "        epoch_losses = []\n",
    "        model.train()\n",
    "        for i, batch in enumerate(tqdm(train_dataloader, desc=f'Эпоха обучения {epoch}')):\n",
    "            optimizer.zero_grad()\n",
    "            logits = model({'input_ids': batch['input_ids'],'duration': batch['duration'],'sum': batch['sum']})\n",
    "            loss = criterion(logits, batch['label'])\n",
    "            loss.backward()\n",
    "            optimizer.step()\n",
    "            epoch_losses.append(loss.item())\n",
    "\n",
    "        model.eval()\n",
    "        current_accuracy_valid,_ = evaluate(model, eval_dataloader)\n",
    "        current_accuracy_train,_ = evaluate(model, train_dataloader)\n",
    "        acc.append([current_accuracy_train, current_accuracy_valid])\n",
    "\n",
    "        if current_accuracy_valid > best_eval_acc:\n",
    "            best_eval_acc = current_accuracy_valid\n",
    "            best_model_state = model.state_dict()\n",
    "            torch.save(best_model_state, save_path)\n",
    "            print(f\"Лучшая модель сохранена: эпоха {epoch}, valid_accuracy {best_eval_acc:.4f}\")\n",
    "            best_params['aggregation_type'] = aggregation_type\n",
    "            best_params['epoch'] = epoch\n",
    "\n",
    "        losses.append(sum(epoch_losses) / len(epoch_losses))\n",
    "\n",
    "    losses_type[aggregation_type] = losses\n",
    "    acc_type[aggregation_type] = acc\n",
    "\n",
    "results_viz('Full Model LSTM', num_epoch, acc_type, losses_type, best_params)"
   ]
  },
  {
   "cell_type": "code",
   "execution_count": 20,
   "id": "cb0bab22-053a-419a-9b05-b775249b1deb",
   "metadata": {},
   "outputs": [
    {
     "name": "stdout",
     "output_type": "stream",
     "text": [
      "Точность на валидационной выборке: 0.9334\n",
      "Точность на тестовой выборке: 0.9212\n",
      "\n",
      "Лучшая модель - лучшие параметры: aggregation_type mean, epoch 2\n"
     ]
    }
   ],
   "source": [
    "model_full_lstm = FullWordLM_LSTM(hidden_dim=256, num_classes = len(labels_dict), vocab_size=len(vocab), aggregation_type=best_params['aggregation_type']).to(device)\n",
    "# save_path = f\"best_model.pt\"\n",
    "model_full_lstm.load_state_dict(torch.load(save_path, weights_only=True))\n",
    "model_full_lstm.eval()\n",
    "\n",
    "accuracy_valid,_ = evaluate(model_full_lstm, eval_dataloader)\n",
    "accuracy_test, predictions_test = evaluate(model_full_lstm, test_dataloader)\n",
    "\n",
    "\n",
    "\n",
    "print(f'Точность на валидационной выборке: {accuracy_valid:.4f}')\n",
    "print(f'Точность на тестовой выборке: {accuracy_test:.4f}')\n",
    "\n",
    "# predictions_test = predictions_test.tolist()\n",
    "# f1_weighted = f1_score(y_test, predictions_test, average='weighted')\n",
    "# print(f'F1(weighted) на тестовой выборке: {f1_weighted:.4f}')\n",
    "\n",
    "print(f\"\\nЛучшая модель - лучшие параметры: aggregation_type {best_params['aggregation_type']}, epoch {best_params['epoch']}\")\n"
   ]
  },
  {
   "cell_type": "code",
   "execution_count": 21,
   "id": "5abb1eda-ad99-4e7e-981a-b79d4475e1d4",
   "metadata": {},
   "outputs": [
    {
     "name": "stdout",
     "output_type": "stream",
     "text": [
      "2 Работы строительные специализированные\n",
      "[0.00043077929876744747, 0.16388091444969177, 0.8106086850166321, 0.02507968619465828]\n"
     ]
    }
   ],
   "source": [
    "\n",
    "text = \"Выполнение работ по оказанию услуг\"\n",
    "duration = 12.5\n",
    "sum_value = 1500.75\n",
    "\n",
    "label, probs = model_full_lstm.predict_one(text, duration, sum_value, word2ind)\n",
    "print(label, label2okpdname[label])\n",
    "print(probs)\n"
   ]
  },
  {
   "cell_type": "code",
   "execution_count": 32,
   "id": "cad31af8-a9f7-4598-a38f-a8c584562f96",
   "metadata": {},
   "outputs": [],
   "source": [
    "import pickle\n",
    "\n",
    "data_to_save = {\n",
    "    'model': model_full_lstm,\n",
    "    'word2ind': word2ind,\n",
    "    'labels_dict':labels_dict,\n",
    "    'label2okpdname': label2okpdname\n",
    "}\n",
    "\n",
    "\n",
    "with open('model_with_data.pkl', 'wb') as f:\n",
    "    pickle.dump(data_to_save, f)\n"
   ]
  },
  {
   "cell_type": "code",
   "execution_count": null,
   "id": "57e4d0db",
   "metadata": {},
   "outputs": [],
   "source": [
    "pip install torch"
   ]
  },
  {
   "cell_type": "code",
   "execution_count": 6,
   "id": "992cb741",
   "metadata": {},
   "outputs": [
    {
     "ename": "ModuleNotFoundError",
     "evalue": "No module named 'torch'",
     "output_type": "error",
     "traceback": [
      "\u001b[1;31m---------------------------------------------------------------------------\u001b[0m",
      "\u001b[1;31mModuleNotFoundError\u001b[0m                       Traceback (most recent call last)",
      "Cell \u001b[1;32mIn[6], line 3\u001b[0m\n\u001b[0;32m      1\u001b[0m \u001b[38;5;28;01mimport\u001b[39;00m \u001b[38;5;21;01mpickle\u001b[39;00m\n\u001b[1;32m----> 3\u001b[0m \u001b[38;5;28;01mimport\u001b[39;00m \u001b[38;5;21;01mtorch\u001b[39;00m\n\u001b[0;32m      4\u001b[0m \u001b[38;5;28;01mimport\u001b[39;00m \u001b[38;5;21;01mtorch\u001b[39;00m\u001b[38;5;21;01m.\u001b[39;00m\u001b[38;5;21;01mnn\u001b[39;00m \u001b[38;5;28;01mas\u001b[39;00m \u001b[38;5;21;01mnn\u001b[39;00m\n\u001b[0;32m      5\u001b[0m \u001b[38;5;28;01mfrom\u001b[39;00m \u001b[38;5;21;01mtorch\u001b[39;00m\u001b[38;5;21;01m.\u001b[39;00m\u001b[38;5;21;01mutils\u001b[39;00m\u001b[38;5;21;01m.\u001b[39;00m\u001b[38;5;21;01mdata\u001b[39;00m \u001b[38;5;28;01mimport\u001b[39;00m Dataset, DataLoader\n",
      "\u001b[1;31mModuleNotFoundError\u001b[0m: No module named 'torch'"
     ]
    }
   ],
   "source": [
    "import pickle\n",
    "\n",
    "import torch\n",
    "import torch.nn as nn\n",
    "from torch.utils.data import Dataset, DataLoader\n",
    "import torch.nn.functional as F\n",
    "\n",
    "import numpy as np\n",
    "import matplotlib.pyplot as plt\n",
    "\n",
    "from tqdm.auto import tqdm\n",
    "\n",
    "from nltk.tokenize import sent_tokenize, word_tokenize\n",
    "import nltk\n",
    "\n",
    "from collections import Counter\n",
    "from typing import List\n",
    "\n",
    "\n",
    "# import nltk\n",
    "# nltk.download('punkt')\n",
    "\n",
    "import re\n",
    "import string"
   ]
  },
  {
   "cell_type": "code",
   "execution_count": 5,
   "id": "2d3c2ce5",
   "metadata": {},
   "outputs": [
    {
     "ename": "NameError",
     "evalue": "name 'nn' is not defined",
     "output_type": "error",
     "traceback": [
      "\u001b[1;31m---------------------------------------------------------------------------\u001b[0m",
      "\u001b[1;31mNameError\u001b[0m                                 Traceback (most recent call last)",
      "Cell \u001b[1;32mIn[5], line 1\u001b[0m\n\u001b[1;32m----> 1\u001b[0m \u001b[38;5;28;01mclass\u001b[39;00m \u001b[38;5;21;01mFullWordLM_LSTM\u001b[39;00m(nn\u001b[38;5;241m.\u001b[39mModule):\n\u001b[0;32m      2\u001b[0m     \u001b[38;5;28;01mdef\u001b[39;00m \u001b[38;5;21m__init__\u001b[39m(\n\u001b[0;32m      3\u001b[0m         \u001b[38;5;28mself\u001b[39m, hidden_dim: \u001b[38;5;28mint\u001b[39m, vocab_size: \u001b[38;5;28mint\u001b[39m, num_classes: \u001b[38;5;28mint\u001b[39m \u001b[38;5;241m=\u001b[39m \u001b[38;5;241m4\u001b[39m,\n\u001b[0;32m      4\u001b[0m         aggregation_type: \u001b[38;5;28mstr\u001b[39m \u001b[38;5;241m=\u001b[39m \u001b[38;5;124m'\u001b[39m\u001b[38;5;124mmax\u001b[39m\u001b[38;5;124m'\u001b[39m\n\u001b[0;32m      5\u001b[0m     ):\n\u001b[0;32m      6\u001b[0m         \u001b[38;5;28msuper\u001b[39m()\u001b[38;5;241m.\u001b[39m\u001b[38;5;21m__init__\u001b[39m()\n",
      "\u001b[1;31mNameError\u001b[0m: name 'nn' is not defined"
     ]
    }
   ],
   "source": [
    "class FullWordLM_LSTM(nn.Module):\n",
    "    def __init__(\n",
    "        self, hidden_dim: int, vocab_size: int, num_classes: int = 4,\n",
    "        aggregation_type: str = 'max'\n",
    "    ):\n",
    "        super().__init__()\n",
    "        self.embedding = nn.Embedding(vocab_size, hidden_dim)\n",
    "        self.rnn = nn.LSTM(hidden_dim, hidden_dim, batch_first=True)\n",
    "        self.text_linear = nn.Linear(hidden_dim, hidden_dim)\n",
    "\n",
    "        self.numeric_linear = nn.Linear(2, hidden_dim)  # 2 признака: duration и sum\n",
    "        self.projection = nn.Linear(hidden_dim * 2, num_classes)  # Увеличили размерность для текста + числовых признаков\n",
    "        self.non_lin = nn.Tanh()\n",
    "        self.dropout = nn.Dropout(p=0.1)\n",
    "        self.aggregation_type = aggregation_type\n",
    "\n",
    "    def forward(self, input_batch) -> torch.Tensor:\n",
    "        embeddings = self.embedding(input_batch['input_ids'])  # [batch_size, seq_len, hidden_dim]\n",
    "        rnn_output, _ = self.rnn(embeddings)  # [batch_size, seq_len, hidden_dim]\n",
    "\n",
    "        if self.aggregation_type == 'max':\n",
    "            rnn_output = rnn_output.max(dim=1)[0]  # [batch_size, hidden_dim]\n",
    "        elif self.aggregation_type == 'mean':\n",
    "            rnn_output = rnn_output.mean(dim=1)  # [batch_size, hidden_dim]\n",
    "        else:\n",
    "            raise ValueError(\"Invalid aggregation_type\")\n",
    "\n",
    "        text_features = self.dropout(self.text_linear(self.non_lin(rnn_output)))  # [batch_size, hidden_dim]\n",
    "        numeric_features = torch.stack([input_batch['duration'], input_batch['sum']], dim=1)  # [batch_size, 2]\n",
    "        numeric_features = self.dropout(self.non_lin(self.numeric_linear(numeric_features)))  # [batch_size, hidden_dim]\n",
    "        combined_features = torch.cat([text_features, numeric_features], dim=1)  # [batch_size, hidden_dim * 2]\n",
    "        prediction = self.projection(self.non_lin(combined_features))  # [batch_size, num_classes]\n",
    "\n",
    "        return prediction\n",
    "\n",
    "\n",
    "    def predict_one(self, text: str, duration: float, sum_value: float, word2ind: dict, max_len: int = 256) -> str:\n",
    "        \"\"\"\n",
    "        Прогнозирует класс и вероятности для одного примера с использованием текста, duration и sum.\n",
    "        \"\"\"\n",
    "\n",
    "        processed_text = text.lower().translate(str.maketrans('', '', string.punctuation))\n",
    "        tokenized_sentence = [word2ind.get(word, word2ind.get('<unk>')) for word in word_tokenize(processed_text, language=\"russian\")]\n",
    "\n",
    "        bos_id = word2ind.get('<bos>')\n",
    "        eos_id = word2ind.get('<eos>')\n",
    "        tokenized_sentence = [bos_id] + tokenized_sentence\n",
    "\n",
    "        if len(tokenized_sentence) > max_len -1:\n",
    "            tokenized_sentence = tokenized_sentence[:max_len-1]\n",
    "        tokenized_sentence = tokenized_sentence + [eos_id]\n",
    "\n",
    "        input_ids = torch.tensor(tokenized_sentence).unsqueeze(0)\n",
    "        duration_tensor = torch.tensor([duration], dtype=torch.float32)\n",
    "        sum_tensor = torch.tensor([sum_value], dtype=torch.float32)\n",
    "\n",
    "        input_batch = {\n",
    "            'input_ids': input_ids.to(next(self.parameters()).device),  \n",
    "            'duration': duration_tensor.to(next(self.parameters()).device),\n",
    "            'sum': sum_tensor.to(next(self.parameters()).device)\n",
    "        }\n",
    "\n",
    "        self.eval()\n",
    "        logits = self.forward(input_batch)\n",
    "        probabilities = F.softmax(logits, dim=-1).squeeze(0) \n",
    "        predicted_class = torch.argmax(probabilities).item()\n",
    "        probabilities = probabilities.tolist()        \n",
    "        \n",
    "        return predicted_class, probabilities\n",
    "\n"
   ]
  },
  {
   "cell_type": "code",
   "execution_count": 4,
   "id": "70167891-74b9-45d6-b84f-1c5664d575e5",
   "metadata": {},
   "outputs": [
    {
     "name": "stderr",
     "output_type": "stream",
     "text": [
      "<>:1: SyntaxWarning: invalid escape sequence '\\m'\n",
      "<>:1: SyntaxWarning: invalid escape sequence '\\m'\n",
      "C:\\Users\\lobzi\\AppData\\Local\\Temp\\ipykernel_1416\\238058754.py:1: SyntaxWarning: invalid escape sequence '\\m'\n",
      "  with open('..\\models\\model_with_data.pkl', 'rb') as f:\n",
      "C:\\Users\\lobzi\\AppData\\Local\\Temp\\ipykernel_1416\\238058754.py:1: SyntaxWarning: invalid escape sequence '\\m'\n",
      "  with open('..\\models\\model_with_data.pkl', 'rb') as f:\n"
     ]
    },
    {
     "ename": "AttributeError",
     "evalue": "Can't get attribute 'FullWordLM_LSTM' on <module '__main__'>",
     "output_type": "error",
     "traceback": [
      "\u001b[1;31m---------------------------------------------------------------------------\u001b[0m",
      "\u001b[1;31mAttributeError\u001b[0m                            Traceback (most recent call last)",
      "Cell \u001b[1;32mIn[4], line 2\u001b[0m\n\u001b[0;32m      1\u001b[0m \u001b[38;5;28;01mwith\u001b[39;00m \u001b[38;5;28mopen\u001b[39m(\u001b[38;5;124m'\u001b[39m\u001b[38;5;124m..\u001b[39m\u001b[38;5;124m\\\u001b[39m\u001b[38;5;124mmodels\u001b[39m\u001b[38;5;124m\\\u001b[39m\u001b[38;5;124mmodel_with_data.pkl\u001b[39m\u001b[38;5;124m'\u001b[39m, \u001b[38;5;124m'\u001b[39m\u001b[38;5;124mrb\u001b[39m\u001b[38;5;124m'\u001b[39m) \u001b[38;5;28;01mas\u001b[39;00m f:\n\u001b[1;32m----> 2\u001b[0m     loaded_data \u001b[38;5;241m=\u001b[39m pickle\u001b[38;5;241m.\u001b[39mload(f)\n\u001b[0;32m      4\u001b[0m best_model \u001b[38;5;241m=\u001b[39m loaded_data[\u001b[38;5;124m'\u001b[39m\u001b[38;5;124mmodel\u001b[39m\u001b[38;5;124m'\u001b[39m]\n\u001b[0;32m      5\u001b[0m word2ind \u001b[38;5;241m=\u001b[39m loaded_data[\u001b[38;5;124m'\u001b[39m\u001b[38;5;124mword2ind\u001b[39m\u001b[38;5;124m'\u001b[39m]\n",
      "\u001b[1;31mAttributeError\u001b[0m: Can't get attribute 'FullWordLM_LSTM' on <module '__main__'>"
     ]
    }
   ],
   "source": [
    "\n",
    "\n",
    "with open('..\\models\\model_with_data.pkl', 'rb') as f:\n",
    "    loaded_data = pickle.load(f)\n",
    "\n",
    "best_model = loaded_data['model']\n",
    "word2ind = loaded_data['word2ind']\n",
    "labels_dict = loaded_data['labels_dict']\n",
    "label2okpdname = loaded_data['label2okpdname']\n",
    "\n",
    "label2okpd = {j:i for (i, j) in labels_dict.items()}\n",
    "\n",
    "best_model.eval()\n",
    "\n",
    "\n",
    "text = \"Выполнение работ по оказанию услуг\"\n",
    "duration = 12.5\n",
    "sum_value = 1500.75\n",
    "\n",
    "label, probs = best_model.predict_one(text, duration, sum_value, word2ind)\n",
    "print('Классификация: ', label, label2okpd[label], label2okpdname[label])\n",
    "print('Вероятности классов: ', probs)"
   ]
  },
  {
   "cell_type": "code",
   "execution_count": null,
   "id": "67924800-05e6-412f-89db-58bbeeba0db3",
   "metadata": {},
   "outputs": [],
   "source": []
  },
  {
   "cell_type": "code",
   "execution_count": 25,
   "id": "bf4e6548-44a8-4e33-854b-d819a04f10da",
   "metadata": {},
   "outputs": [
    {
     "data": {
      "text/html": [
       "<div>\n",
       "<style scoped>\n",
       "    .dataframe tbody tr th:only-of-type {\n",
       "        vertical-align: middle;\n",
       "    }\n",
       "\n",
       "    .dataframe tbody tr th {\n",
       "        vertical-align: top;\n",
       "    }\n",
       "\n",
       "    .dataframe thead th {\n",
       "        text-align: right;\n",
       "    }\n",
       "</style>\n",
       "<table border=\"1\" class=\"dataframe\">\n",
       "  <thead>\n",
       "    <tr style=\"text-align: right;\">\n",
       "      <th></th>\n",
       "      <th>text</th>\n",
       "      <th>duration</th>\n",
       "      <th>sum</th>\n",
       "      <th>okpd</th>\n",
       "      <th>label</th>\n",
       "    </tr>\n",
       "    <tr>\n",
       "      <th>0</th>\n",
       "      <th></th>\n",
       "      <th></th>\n",
       "      <th></th>\n",
       "      <th></th>\n",
       "      <th></th>\n",
       "    </tr>\n",
       "  </thead>\n",
       "  <tbody>\n",
       "    <tr>\n",
       "      <th>1379</th>\n",
       "      <td>Выполнение кадастровых работ и постановку на кадастровый учет зданий</td>\n",
       "      <td>15.0</td>\n",
       "      <td>169150.00</td>\n",
       "      <td>71.1</td>\n",
       "      <td>3</td>\n",
       "    </tr>\n",
       "    <tr>\n",
       "      <th>1978</th>\n",
       "      <td>Выполнение работ по разработке проектно-сметных документаций на подключение контейнерных дизельных электростанций к административным зданиям Клиентской службы (на правах группы) в Юстинском районе ОПФР по Республике Калмыкия и Клиентской службы (на правах группы) в Приютненском районе ОПФР по Республике Калмыкия</td>\n",
       "      <td>14.0</td>\n",
       "      <td>130000.00</td>\n",
       "      <td>71.1</td>\n",
       "      <td>3</td>\n",
       "    </tr>\n",
       "    <tr>\n",
       "      <th>2010</th>\n",
       "      <td>Изготовление технического паспорта и технического плана административного здания Яшалтинского районного суда Республики Калмыкия</td>\n",
       "      <td>14.0</td>\n",
       "      <td>63172.63</td>\n",
       "      <td>71.1</td>\n",
       "      <td>3</td>\n",
       "    </tr>\n",
       "    <tr>\n",
       "      <th>2105</th>\n",
       "      <td>Выполнение проектно-сметных работ по монтажу ОПС  в здании прокуратуры Прикубанского района (244.226.99)</td>\n",
       "      <td>7.0</td>\n",
       "      <td>64740.00</td>\n",
       "      <td>71.1</td>\n",
       "      <td>3</td>\n",
       "    </tr>\n",
       "    <tr>\n",
       "      <th>2233</th>\n",
       "      <td>Оказание услуг по метрологической поверке приборов радиационного контроля</td>\n",
       "      <td>6.0</td>\n",
       "      <td>499500.00</td>\n",
       "      <td>71.1</td>\n",
       "      <td>3</td>\n",
       "    </tr>\n",
       "    <tr>\n",
       "      <th>...</th>\n",
       "      <td>...</td>\n",
       "      <td>...</td>\n",
       "      <td>...</td>\n",
       "      <td>...</td>\n",
       "      <td>...</td>\n",
       "    </tr>\n",
       "    <tr>\n",
       "      <th>2523099</th>\n",
       "      <td>Выполнение работ (услуг) по межеванию и постановке на кадастровый учет 37 земельных участков под индивидуальное жилищное строительство</td>\n",
       "      <td>7.0</td>\n",
       "      <td>37587.71</td>\n",
       "      <td>71.1</td>\n",
       "      <td>3</td>\n",
       "    </tr>\n",
       "    <tr>\n",
       "      <th>2523101</th>\n",
       "      <td>Оказание услуг по разработке программы комплексного развития социальной инфраструктуры Ильского городского поселения Северского района Краснодарского края.</td>\n",
       "      <td>7.0</td>\n",
       "      <td>17835.82</td>\n",
       "      <td>71.1</td>\n",
       "      <td>3</td>\n",
       "    </tr>\n",
       "    <tr>\n",
       "      <th>2523102</th>\n",
       "      <td>Оказание услуг по разработке программы комплексного развития транспортной инфраструктуры Ильского городского поселения Северского района Краснодарского края.</td>\n",
       "      <td>7.0</td>\n",
       "      <td>26755.83</td>\n",
       "      <td>71.1</td>\n",
       "      <td>3</td>\n",
       "    </tr>\n",
       "    <tr>\n",
       "      <th>2523285</th>\n",
       "      <td>Изготовление проектно-сметной документации для проведения капитального ремонта Голубицкой амбулатории по адресу: Темрюкский район, ст. Голубицкая, ул. Красная, 94</td>\n",
       "      <td>13.0</td>\n",
       "      <td>94886.33</td>\n",
       "      <td>71.1</td>\n",
       "      <td>3</td>\n",
       "    </tr>\n",
       "    <tr>\n",
       "      <th>2523336</th>\n",
       "      <td>Оказание услуг по разработке проектов организации дорожного движения на автомобильные дороги местного значения муниципального образования Темрюкский район</td>\n",
       "      <td>7.0</td>\n",
       "      <td>45000.00</td>\n",
       "      <td>71.1</td>\n",
       "      <td>3</td>\n",
       "    </tr>\n",
       "  </tbody>\n",
       "</table>\n",
       "<p>12392 rows × 5 columns</p>\n",
       "</div>"
      ],
      "text/plain": [
       "                                                                                                                                                                                                                                                                                                                              text  \\\n",
       "0                                                                                                                                                                                                                                                                                                                                    \n",
       "1379                                                                                                                                                                                                                                                          Выполнение кадастровых работ и постановку на кадастровый учет зданий   \n",
       "1978     Выполнение работ по разработке проектно-сметных документаций на подключение контейнерных дизельных электростанций к административным зданиям Клиентской службы (на правах группы) в Юстинском районе ОПФР по Республике Калмыкия и Клиентской службы (на правах группы) в Приютненском районе ОПФР по Республике Калмыкия   \n",
       "2010                                                                                                                                                                                              Изготовление технического паспорта и технического плана административного здания Яшалтинского районного суда Республики Калмыкия   \n",
       "2105                                                                                                                                                                                                                      Выполнение проектно-сметных работ по монтажу ОПС  в здании прокуратуры Прикубанского района (244.226.99)   \n",
       "2233                                                                                                                                                                                                                                                     Оказание услуг по метрологической поверке приборов радиационного контроля   \n",
       "...                                                                                                                                                                                                                                                                                                                            ...   \n",
       "2523099                                                                                                                                                                                     Выполнение работ (услуг) по межеванию и постановке на кадастровый учет 37 земельных участков под индивидуальное жилищное строительство   \n",
       "2523101                                                                                                                                                                Оказание услуг по разработке программы комплексного развития социальной инфраструктуры Ильского городского поселения Северского района Краснодарского края.   \n",
       "2523102                                                                                                                                                              Оказание услуг по разработке программы комплексного развития транспортной инфраструктуры Ильского городского поселения Северского района Краснодарского края.   \n",
       "2523285                                                                                                                                                         Изготовление проектно-сметной документации для проведения капитального ремонта Голубицкой амбулатории по адресу: Темрюкский район, ст. Голубицкая, ул. Красная, 94   \n",
       "2523336                                                                                                                                                                 Оказание услуг по разработке проектов организации дорожного движения на автомобильные дороги местного значения муниципального образования Темрюкский район   \n",
       "\n",
       "         duration        sum  okpd  label  \n",
       "0                                          \n",
       "1379         15.0  169150.00  71.1      3  \n",
       "1978         14.0  130000.00  71.1      3  \n",
       "2010         14.0   63172.63  71.1      3  \n",
       "2105          7.0   64740.00  71.1      3  \n",
       "2233          6.0  499500.00  71.1      3  \n",
       "...           ...        ...   ...    ...  \n",
       "2523099       7.0   37587.71  71.1      3  \n",
       "2523101       7.0   17835.82  71.1      3  \n",
       "2523102       7.0   26755.83  71.1      3  \n",
       "2523285      13.0   94886.33  71.1      3  \n",
       "2523336       7.0   45000.00  71.1      3  \n",
       "\n",
       "[12392 rows x 5 columns]"
      ]
     },
     "execution_count": 25,
     "metadata": {},
     "output_type": "execute_result"
    }
   ],
   "source": [
    "df0[df0['label']==3]"
   ]
  },
  {
   "cell_type": "code",
   "execution_count": 34,
   "id": "a3e2d74b-b0c6-46ed-8431-4e03511594b9",
   "metadata": {},
   "outputs": [
    {
     "name": "stdout",
     "output_type": "stream",
     "text": [
      "Классификация:  3 71.1 Услуги в области архитектуры и инженерно-технического проектирования, технических испытаний, исследований и анализа\n",
      "Вероятности классов:  [6.972162736929022e-06, 0.0014568361220881343, 8.686361070431303e-06, 0.9985274076461792]\n"
     ]
    }
   ],
   "source": [
    "# text = 'Выполнение кадастровых работ и постановку на кадастровый учет зданий'\n",
    "# duration = 14\n",
    "# sum_value = 1700000\n",
    "\n",
    "text = 'Оказание услуг по разработке проектов организации дорожного движения на автомобильные дороги местного значения муниципального образования Темрюкский район'\n",
    "duration = 7\n",
    "sum_value = 45000\n",
    "\n",
    "label, probs = best_model.predict_one(text, duration, sum_value, word2ind)\n",
    "print('Классификация: ', label, label2okpd[label], label2okpdname[label])\n",
    "print('Вероятности классов: ', probs)"
   ]
  },
  {
   "cell_type": "code",
   "execution_count": 28,
   "id": "f0e06bcb-4444-4582-bb25-149db030800a",
   "metadata": {},
   "outputs": [
    {
     "data": {
      "text/html": [
       "<div>\n",
       "<style scoped>\n",
       "    .dataframe tbody tr th:only-of-type {\n",
       "        vertical-align: middle;\n",
       "    }\n",
       "\n",
       "    .dataframe tbody tr th {\n",
       "        vertical-align: top;\n",
       "    }\n",
       "\n",
       "    .dataframe thead th {\n",
       "        text-align: right;\n",
       "    }\n",
       "</style>\n",
       "<table border=\"1\" class=\"dataframe\">\n",
       "  <thead>\n",
       "    <tr style=\"text-align: right;\">\n",
       "      <th></th>\n",
       "      <th>text</th>\n",
       "      <th>duration</th>\n",
       "      <th>sum</th>\n",
       "      <th>okpd</th>\n",
       "      <th>label</th>\n",
       "    </tr>\n",
       "    <tr>\n",
       "      <th>0</th>\n",
       "      <th></th>\n",
       "      <th></th>\n",
       "      <th></th>\n",
       "      <th></th>\n",
       "      <th></th>\n",
       "    </tr>\n",
       "  </thead>\n",
       "  <tbody>\n",
       "    <tr>\n",
       "      <th>501</th>\n",
       "      <td>Текущий ремонт туалета, части инженерных сетей цокольного этажа Медицинского колледжа ФГБОУ ВО БГМУ Минздрава России</td>\n",
       "      <td>14.0</td>\n",
       "      <td>564534.54</td>\n",
       "      <td>41.2</td>\n",
       "      <td>0</td>\n",
       "    </tr>\n",
       "    <tr>\n",
       "      <th>1553</th>\n",
       "      <td>Капитальный ремонт санузла Лакской межрайонной прокуратуры Республики Дагестан</td>\n",
       "      <td>17.0</td>\n",
       "      <td>205003.00</td>\n",
       "      <td>41.2</td>\n",
       "      <td>0</td>\n",
       "    </tr>\n",
       "    <tr>\n",
       "      <th>1554</th>\n",
       "      <td>Капитальный ремонт санузла прокуратуры Рутульского района Республики Дагестан</td>\n",
       "      <td>17.0</td>\n",
       "      <td>200480.00</td>\n",
       "      <td>41.2</td>\n",
       "      <td>0</td>\n",
       "    </tr>\n",
       "    <tr>\n",
       "      <th>1555</th>\n",
       "      <td>Газификация здания прокуратуры Ахтынского района Республики Дагестан</td>\n",
       "      <td>17.0</td>\n",
       "      <td>80680.00</td>\n",
       "      <td>41.2</td>\n",
       "      <td>0</td>\n",
       "    </tr>\n",
       "    <tr>\n",
       "      <th>1673</th>\n",
       "      <td>Капитальный ремонт отдельного батальона ППСП МО МВД России \\Сунженский\\\" \"</td>\n",
       "      <td>6.0</td>\n",
       "      <td>3536434.00</td>\n",
       "      <td>41.2</td>\n",
       "      <td>0</td>\n",
       "    </tr>\n",
       "    <tr>\n",
       "      <th>...</th>\n",
       "      <td>...</td>\n",
       "      <td>...</td>\n",
       "      <td>...</td>\n",
       "      <td>...</td>\n",
       "      <td>...</td>\n",
       "    </tr>\n",
       "    <tr>\n",
       "      <th>2523182</th>\n",
       "      <td>Капитальный ремонт помещения 25 в здании МБОУ СОШ №5 в пос.Рассвет Староминского района</td>\n",
       "      <td>13.0</td>\n",
       "      <td>1635146.35</td>\n",
       "      <td>41.2</td>\n",
       "      <td>0</td>\n",
       "    </tr>\n",
       "    <tr>\n",
       "      <th>2523205</th>\n",
       "      <td>Капитальный ремонт зрительного зала в ст.Староминской по ул.Калинина, 2</td>\n",
       "      <td>13.0</td>\n",
       "      <td>5100606.42</td>\n",
       "      <td>41.2</td>\n",
       "      <td>0</td>\n",
       "    </tr>\n",
       "    <tr>\n",
       "      <th>2523206</th>\n",
       "      <td>Капитальный ремонт зрительного зала в ст.Староминской по ул.Калинина, 2</td>\n",
       "      <td>13.0</td>\n",
       "      <td>5100606.42</td>\n",
       "      <td>41.2</td>\n",
       "      <td>0</td>\n",
       "    </tr>\n",
       "    <tr>\n",
       "      <th>2523431</th>\n",
       "      <td>Ремонт фасадов здания Дома культуры в Старотитаровском сельском поселении Темрюкского района</td>\n",
       "      <td>6.0</td>\n",
       "      <td>1389004.63</td>\n",
       "      <td>41.2</td>\n",
       "      <td>0</td>\n",
       "    </tr>\n",
       "    <tr>\n",
       "      <th>2523549</th>\n",
       "      <td>Выполнение дополнительных работ по объекту: Капитальный ремонт фасада и кровли здания муниципального бюджетного учреждения культуры \\Межпоселенческий районный Дом культуры имени В.М.Толстых\\\" муниципального образования Тимашевский район\"</td>\n",
       "      <td>5.0</td>\n",
       "      <td>2855914.98</td>\n",
       "      <td>41.2</td>\n",
       "      <td>0</td>\n",
       "    </tr>\n",
       "  </tbody>\n",
       "</table>\n",
       "<p>12079 rows × 5 columns</p>\n",
       "</div>"
      ],
      "text/plain": [
       "                                                                                                                                                                                                                                                  text  \\\n",
       "0                                                                                                                                                                                                                                                        \n",
       "501                                                                                                                               Текущий ремонт туалета, части инженерных сетей цокольного этажа Медицинского колледжа ФГБОУ ВО БГМУ Минздрава России   \n",
       "1553                                                                                                                                                                    Капитальный ремонт санузла Лакской межрайонной прокуратуры Республики Дагестан   \n",
       "1554                                                                                                                                                                     Капитальный ремонт санузла прокуратуры Рутульского района Республики Дагестан   \n",
       "1555                                                                                                                                                                              Газификация здания прокуратуры Ахтынского района Республики Дагестан   \n",
       "1673                                                                                                                                                                        Капитальный ремонт отдельного батальона ППСП МО МВД России \\Сунженский\\\" \"   \n",
       "...                                                                                                                                                                                                                                                ...   \n",
       "2523182                                                                                                                                                        Капитальный ремонт помещения 25 в здании МБОУ СОШ №5 в пос.Рассвет Староминского района   \n",
       "2523205                                                                                                                                                                        Капитальный ремонт зрительного зала в ст.Староминской по ул.Калинина, 2   \n",
       "2523206                                                                                                                                                                        Капитальный ремонт зрительного зала в ст.Староминской по ул.Калинина, 2   \n",
       "2523431                                                                                                                                                   Ремонт фасадов здания Дома культуры в Старотитаровском сельском поселении Темрюкского района   \n",
       "2523549  Выполнение дополнительных работ по объекту: Капитальный ремонт фасада и кровли здания муниципального бюджетного учреждения культуры \\Межпоселенческий районный Дом культуры имени В.М.Толстых\\\" муниципального образования Тимашевский район\"   \n",
       "\n",
       "         duration         sum  okpd  label  \n",
       "0                                           \n",
       "501          14.0   564534.54  41.2      0  \n",
       "1553         17.0   205003.00  41.2      0  \n",
       "1554         17.0   200480.00  41.2      0  \n",
       "1555         17.0    80680.00  41.2      0  \n",
       "1673          6.0  3536434.00  41.2      0  \n",
       "...           ...         ...   ...    ...  \n",
       "2523182      13.0  1635146.35  41.2      0  \n",
       "2523205      13.0  5100606.42  41.2      0  \n",
       "2523206      13.0  5100606.42  41.2      0  \n",
       "2523431       6.0  1389004.63  41.2      0  \n",
       "2523549       5.0  2855914.98  41.2      0  \n",
       "\n",
       "[12079 rows x 5 columns]"
      ]
     },
     "execution_count": 28,
     "metadata": {},
     "output_type": "execute_result"
    }
   ],
   "source": [
    "df0[df0['label']==0]"
   ]
  },
  {
   "cell_type": "code",
   "execution_count": 36,
   "id": "c5da904b-8ee3-4ebc-a69f-946e4524f8eb",
   "metadata": {},
   "outputs": [
    {
     "name": "stdout",
     "output_type": "stream",
     "text": [
      "Классификация:  0 Здания и работы по возведению зданий\n",
      "Вероятности классов:  [0.9988211989402771, 6.332484190352261e-06, 0.0011660419404506683, 6.3681059145892505e-06]\n"
     ]
    }
   ],
   "source": [
    "text = 'Текущий ремонт туалета, части инженерных сетей цокольного этажа Медицинского колледжа ФГБОУ ВО БГМУ Минздрава России'\n",
    "duration = 14\n",
    "sum_value = 5_645_355\n",
    "\n",
    "# text = 'Выполнение дополнительных работ по объекту: Капитальный ремонт фасада и кровли здания муниципального бюджетного учреждения культуры \\Межпоселенческий районный Дом культуры имени В.М.Толстых\\\" муниципального образования Тимашевский район\"'\n",
    "# duration = 5\n",
    "# sum_value = 2_855_915\n",
    "\n",
    "label, probs = best_model.predict_one(text, duration, sum_value, word2ind)\n",
    "print('Классификация: ', label, label2okpdname[label])\n",
    "print('Вероятности классов: ', probs)"
   ]
  },
  {
   "cell_type": "code",
   "execution_count": 37,
   "id": "a6125642-186d-4740-bc54-70190851aea6",
   "metadata": {},
   "outputs": [
    {
     "data": {
      "text/html": [
       "<div>\n",
       "<style scoped>\n",
       "    .dataframe tbody tr th:only-of-type {\n",
       "        vertical-align: middle;\n",
       "    }\n",
       "\n",
       "    .dataframe tbody tr th {\n",
       "        vertical-align: top;\n",
       "    }\n",
       "\n",
       "    .dataframe thead th {\n",
       "        text-align: right;\n",
       "    }\n",
       "</style>\n",
       "<table border=\"1\" class=\"dataframe\">\n",
       "  <thead>\n",
       "    <tr style=\"text-align: right;\">\n",
       "      <th></th>\n",
       "      <th>text</th>\n",
       "      <th>duration</th>\n",
       "      <th>sum</th>\n",
       "      <th>okpd</th>\n",
       "      <th>label</th>\n",
       "    </tr>\n",
       "    <tr>\n",
       "      <th>0</th>\n",
       "      <th></th>\n",
       "      <th></th>\n",
       "      <th></th>\n",
       "      <th></th>\n",
       "      <th></th>\n",
       "    </tr>\n",
       "  </thead>\n",
       "  <tbody>\n",
       "    <tr>\n",
       "      <th>6177</th>\n",
       "      <td>Оказание услуг по предоставлению мест стоянки служебных  автотранспортных средств</td>\n",
       "      <td>6.0</td>\n",
       "      <td>2.016000e+05</td>\n",
       "      <td>42.1</td>\n",
       "      <td>1</td>\n",
       "    </tr>\n",
       "    <tr>\n",
       "      <th>10781</th>\n",
       "      <td>Выполнение работ по содержанию действующей сети автомобильных дорог общего пользования федерального значения. Замена барьерного ограждения</td>\n",
       "      <td>16.0</td>\n",
       "      <td>2.292297e+07</td>\n",
       "      <td>42.1</td>\n",
       "      <td>1</td>\n",
       "    </tr>\n",
       "    <tr>\n",
       "      <th>12001</th>\n",
       "      <td>Оказание услуг по содержанию искусственных сооружений на автомобильной дороге А-376 Хабаровск – Лидога - Ванино – Комсомольск-на-Амуре, Хабаровский край</td>\n",
       "      <td>7.0</td>\n",
       "      <td>1.345841e+08</td>\n",
       "      <td>42.1</td>\n",
       "      <td>1</td>\n",
       "    </tr>\n",
       "    <tr>\n",
       "      <th>12949</th>\n",
       "      <td>выполнение работ по текущему ремонту железнодорожного пути необщего пользования для нужд ФКУ ИК-6 УФСИН России по Астраханской области</td>\n",
       "      <td>7.0</td>\n",
       "      <td>8.390573e+05</td>\n",
       "      <td>42.1</td>\n",
       "      <td>1</td>\n",
       "    </tr>\n",
       "    <tr>\n",
       "      <th>12950</th>\n",
       "      <td>выполнение работ по текущему ремонту железнодорожного пути необщего пользования для нужд ФКУ ИК-6 УФСИН России по Астраханской области</td>\n",
       "      <td>7.0</td>\n",
       "      <td>8.390573e+05</td>\n",
       "      <td>42.1</td>\n",
       "      <td>1</td>\n",
       "    </tr>\n",
       "    <tr>\n",
       "      <th>...</th>\n",
       "      <td>...</td>\n",
       "      <td>...</td>\n",
       "      <td>...</td>\n",
       "      <td>...</td>\n",
       "      <td>...</td>\n",
       "    </tr>\n",
       "    <tr>\n",
       "      <th>2523558</th>\n",
       "      <td>Ремонт ул. Центральной от дома №88 до дома №116 в х.Ленинский</td>\n",
       "      <td>7.0</td>\n",
       "      <td>2.351945e+06</td>\n",
       "      <td>42.1</td>\n",
       "      <td>1</td>\n",
       "    </tr>\n",
       "    <tr>\n",
       "      <th>2523559</th>\n",
       "      <td>Ремонт ул. Центральной от дома №88 до дома №116 в х.Ленинский</td>\n",
       "      <td>7.0</td>\n",
       "      <td>2.351945e+06</td>\n",
       "      <td>42.1</td>\n",
       "      <td>1</td>\n",
       "    </tr>\n",
       "    <tr>\n",
       "      <th>2523560</th>\n",
       "      <td>Ремонт ул. Центральной от дома №88 до дома №116 в х.Ленинский</td>\n",
       "      <td>7.0</td>\n",
       "      <td>2.351945e+06</td>\n",
       "      <td>42.1</td>\n",
       "      <td>1</td>\n",
       "    </tr>\n",
       "    <tr>\n",
       "      <th>2523561</th>\n",
       "      <td>Текущий ремонт пешеходного моста через реку по ул.Сорокина и ул. Коммунальной</td>\n",
       "      <td>7.0</td>\n",
       "      <td>8.746000e+05</td>\n",
       "      <td>42.1</td>\n",
       "      <td>1</td>\n",
       "    </tr>\n",
       "    <tr>\n",
       "      <th>2523563</th>\n",
       "      <td>Выполнение работ по профилированию гравийных дорог на территории Тимашевского городского поселения Тимашевского района</td>\n",
       "      <td>7.0</td>\n",
       "      <td>2.458290e+06</td>\n",
       "      <td>42.1</td>\n",
       "      <td>1</td>\n",
       "    </tr>\n",
       "  </tbody>\n",
       "</table>\n",
       "<p>17243 rows × 5 columns</p>\n",
       "</div>"
      ],
      "text/plain": [
       "                                                                                                                                                             text  \\\n",
       "0                                                                                                                                                                   \n",
       "6177                                                                            Оказание услуг по предоставлению мест стоянки служебных  автотранспортных средств   \n",
       "10781                  Выполнение работ по содержанию действующей сети автомобильных дорог общего пользования федерального значения. Замена барьерного ограждения   \n",
       "12001    Оказание услуг по содержанию искусственных сооружений на автомобильной дороге А-376 Хабаровск – Лидога - Ванино – Комсомольск-на-Амуре, Хабаровский край   \n",
       "12949                      выполнение работ по текущему ремонту железнодорожного пути необщего пользования для нужд ФКУ ИК-6 УФСИН России по Астраханской области   \n",
       "12950                      выполнение работ по текущему ремонту железнодорожного пути необщего пользования для нужд ФКУ ИК-6 УФСИН России по Астраханской области   \n",
       "...                                                                                                                                                           ...   \n",
       "2523558                                                                                             Ремонт ул. Центральной от дома №88 до дома №116 в х.Ленинский   \n",
       "2523559                                                                                             Ремонт ул. Центральной от дома №88 до дома №116 в х.Ленинский   \n",
       "2523560                                                                                             Ремонт ул. Центральной от дома №88 до дома №116 в х.Ленинский   \n",
       "2523561                                                                             Текущий ремонт пешеходного моста через реку по ул.Сорокина и ул. Коммунальной   \n",
       "2523563                                    Выполнение работ по профилированию гравийных дорог на территории Тимашевского городского поселения Тимашевского района   \n",
       "\n",
       "         duration           sum  okpd  label  \n",
       "0                                             \n",
       "6177          6.0  2.016000e+05  42.1      1  \n",
       "10781        16.0  2.292297e+07  42.1      1  \n",
       "12001         7.0  1.345841e+08  42.1      1  \n",
       "12949         7.0  8.390573e+05  42.1      1  \n",
       "12950         7.0  8.390573e+05  42.1      1  \n",
       "...           ...           ...   ...    ...  \n",
       "2523558       7.0  2.351945e+06  42.1      1  \n",
       "2523559       7.0  2.351945e+06  42.1      1  \n",
       "2523560       7.0  2.351945e+06  42.1      1  \n",
       "2523561       7.0  8.746000e+05  42.1      1  \n",
       "2523563       7.0  2.458290e+06  42.1      1  \n",
       "\n",
       "[17243 rows x 5 columns]"
      ]
     },
     "execution_count": 37,
     "metadata": {},
     "output_type": "execute_result"
    }
   ],
   "source": [
    "df0[df0['label']==1]"
   ]
  },
  {
   "cell_type": "code",
   "execution_count": 38,
   "id": "5da96b1f-8a12-484f-b5c3-4ddbf1423bb9",
   "metadata": {},
   "outputs": [
    {
     "name": "stdout",
     "output_type": "stream",
     "text": [
      "Классификация:  1 Сооружения и строительные работы в области гражданского строительства\n",
      "Вероятности классов:  [2.9213078960310668e-06, 0.9999940395355225, 2.8391893920343136e-06, 2.876537052998174e-07]\n"
     ]
    }
   ],
   "source": [
    "text = 'Выполнение работ по профилированию гравийных дорог на территории Тимашевского городского поселения Тимашевского района'\n",
    "duration = 7\n",
    "sum_value = 2458290\n",
    "\n",
    "label, probs = best_model.predict_one(text, duration, sum_value, word2ind)\n",
    "print('Классификация: ', label, label2okpdname[label])\n",
    "print('Вероятности классов: ', probs)"
   ]
  },
  {
   "cell_type": "code",
   "execution_count": 39,
   "id": "ff2d00f4-c6f2-4722-9c55-2cd7af79d65a",
   "metadata": {},
   "outputs": [
    {
     "data": {
      "text/html": [
       "<div>\n",
       "<style scoped>\n",
       "    .dataframe tbody tr th:only-of-type {\n",
       "        vertical-align: middle;\n",
       "    }\n",
       "\n",
       "    .dataframe tbody tr th {\n",
       "        vertical-align: top;\n",
       "    }\n",
       "\n",
       "    .dataframe thead th {\n",
       "        text-align: right;\n",
       "    }\n",
       "</style>\n",
       "<table border=\"1\" class=\"dataframe\">\n",
       "  <thead>\n",
       "    <tr style=\"text-align: right;\">\n",
       "      <th></th>\n",
       "      <th>text</th>\n",
       "      <th>duration</th>\n",
       "      <th>sum</th>\n",
       "      <th>okpd</th>\n",
       "      <th>label</th>\n",
       "    </tr>\n",
       "    <tr>\n",
       "      <th>0</th>\n",
       "      <th></th>\n",
       "      <th></th>\n",
       "      <th></th>\n",
       "      <th></th>\n",
       "      <th></th>\n",
       "    </tr>\n",
       "  </thead>\n",
       "  <tbody>\n",
       "    <tr>\n",
       "      <th>394</th>\n",
       "      <td>прочая закупка услуг (услуги по монтажу и пусконаладке вытяжных систем вентиляции в производственных помещениях раскройного участка швейного цеха)</td>\n",
       "      <td>14.0</td>\n",
       "      <td>248515.44</td>\n",
       "      <td>43.2</td>\n",
       "      <td>2</td>\n",
       "    </tr>\n",
       "    <tr>\n",
       "      <th>460</th>\n",
       "      <td>выполнение работ по монтажу средств  тревожной сигнализации  в зданиях Стерлитамакского филиала БашГУ</td>\n",
       "      <td>15.0</td>\n",
       "      <td>485952.92</td>\n",
       "      <td>43.2</td>\n",
       "      <td>2</td>\n",
       "    </tr>\n",
       "    <tr>\n",
       "      <th>1212</th>\n",
       "      <td>Замена труб отопления</td>\n",
       "      <td>7.0</td>\n",
       "      <td>142000.00</td>\n",
       "      <td>43.2</td>\n",
       "      <td>2</td>\n",
       "    </tr>\n",
       "    <tr>\n",
       "      <th>1242</th>\n",
       "      <td>Оказание услуг по техническому обслуживанию и регламентно-профилактический ремонт индивидуальных тепловых пунктов</td>\n",
       "      <td>7.0</td>\n",
       "      <td>688555.00</td>\n",
       "      <td>43.2</td>\n",
       "      <td>2</td>\n",
       "    </tr>\n",
       "    <tr>\n",
       "      <th>1243</th>\n",
       "      <td>Оказание услуг по техническому обслуживанию лифтов</td>\n",
       "      <td>7.0</td>\n",
       "      <td>132000.00</td>\n",
       "      <td>43.2</td>\n",
       "      <td>2</td>\n",
       "    </tr>\n",
       "    <tr>\n",
       "      <th>...</th>\n",
       "      <td>...</td>\n",
       "      <td>...</td>\n",
       "      <td>...</td>\n",
       "      <td>...</td>\n",
       "      <td>...</td>\n",
       "    </tr>\n",
       "    <tr>\n",
       "      <th>2523335</th>\n",
       "      <td>Приобретение и монтаж погружных насосов канализации в МАДОУ ДС КВ № 12</td>\n",
       "      <td>14.0</td>\n",
       "      <td>376743.85</td>\n",
       "      <td>43.2</td>\n",
       "      <td>2</td>\n",
       "    </tr>\n",
       "    <tr>\n",
       "      <th>2523339</th>\n",
       "      <td>Обустройство инженерными коммуникациями (электрощитовой) муниципального имущества: г. Темрюк, ул. Ленина, 14</td>\n",
       "      <td>13.0</td>\n",
       "      <td>113360.00</td>\n",
       "      <td>43.2</td>\n",
       "      <td>2</td>\n",
       "    </tr>\n",
       "    <tr>\n",
       "      <th>2523372</th>\n",
       "      <td>Текущий ремонт внутренних туалетов</td>\n",
       "      <td>7.0</td>\n",
       "      <td>698354.68</td>\n",
       "      <td>43.2</td>\n",
       "      <td>2</td>\n",
       "    </tr>\n",
       "    <tr>\n",
       "      <th>2523373</th>\n",
       "      <td>Текущий ремонт внутренних туалетов</td>\n",
       "      <td>7.0</td>\n",
       "      <td>698354.68</td>\n",
       "      <td>43.2</td>\n",
       "      <td>2</td>\n",
       "    </tr>\n",
       "    <tr>\n",
       "      <th>2523400</th>\n",
       "      <td>Установка дорожных знаков в Таманском  сельском поселении Темрюкского района</td>\n",
       "      <td>7.0</td>\n",
       "      <td>2688111.57</td>\n",
       "      <td>43.2</td>\n",
       "      <td>2</td>\n",
       "    </tr>\n",
       "  </tbody>\n",
       "</table>\n",
       "<p>19843 rows × 5 columns</p>\n",
       "</div>"
      ],
      "text/plain": [
       "                                                                                                                                                       text  \\\n",
       "0                                                                                                                                                             \n",
       "394      прочая закупка услуг (услуги по монтажу и пусконаладке вытяжных систем вентиляции в производственных помещениях раскройного участка швейного цеха)   \n",
       "460                                                   выполнение работ по монтажу средств  тревожной сигнализации  в зданиях Стерлитамакского филиала БашГУ   \n",
       "1212                                                                                                                                  Замена труб отопления   \n",
       "1242                                      Оказание услуг по техническому обслуживанию и регламентно-профилактический ремонт индивидуальных тепловых пунктов   \n",
       "1243                                                                                                     Оказание услуг по техническому обслуживанию лифтов   \n",
       "...                                                                                                                                                     ...   \n",
       "2523335                                                                              Приобретение и монтаж погружных насосов канализации в МАДОУ ДС КВ № 12   \n",
       "2523339                                        Обустройство инженерными коммуникациями (электрощитовой) муниципального имущества: г. Темрюк, ул. Ленина, 14   \n",
       "2523372                                                                                                                  Текущий ремонт внутренних туалетов   \n",
       "2523373                                                                                                                  Текущий ремонт внутренних туалетов   \n",
       "2523400                                                                        Установка дорожных знаков в Таманском  сельском поселении Темрюкского района   \n",
       "\n",
       "         duration         sum  okpd  label  \n",
       "0                                           \n",
       "394          14.0   248515.44  43.2      2  \n",
       "460          15.0   485952.92  43.2      2  \n",
       "1212          7.0   142000.00  43.2      2  \n",
       "1242          7.0   688555.00  43.2      2  \n",
       "1243          7.0   132000.00  43.2      2  \n",
       "...           ...         ...   ...    ...  \n",
       "2523335      14.0   376743.85  43.2      2  \n",
       "2523339      13.0   113360.00  43.2      2  \n",
       "2523372       7.0   698354.68  43.2      2  \n",
       "2523373       7.0   698354.68  43.2      2  \n",
       "2523400       7.0  2688111.57  43.2      2  \n",
       "\n",
       "[19843 rows x 5 columns]"
      ]
     },
     "execution_count": 39,
     "metadata": {},
     "output_type": "execute_result"
    }
   ],
   "source": [
    "df0[df0['label']==2]"
   ]
  },
  {
   "cell_type": "code",
   "execution_count": 42,
   "id": "46385a1d-8c21-4c63-bbe1-9a4b314ada5d",
   "metadata": {},
   "outputs": [
    {
     "name": "stdout",
     "output_type": "stream",
     "text": [
      "Классификация:  2 Работы строительные специализированные\n",
      "Вероятности классов:  [0.461352676153183, 6.788823520764709e-05, 0.5385327935218811, 4.672854993259534e-05]\n"
     ]
    }
   ],
   "source": [
    "# text = 'Установка дорожных знаков в Таманском сельском поселении Темрюкского района'\n",
    "# duration = 7\n",
    "# sum_value = 2688111\n",
    "\n",
    "text = 'Обустройство инженерными коммуникациями (электрощитовой) муниципального имущества: г. Темрюк, ул. Ленина, 14\t'\n",
    "duration = 13\n",
    "sum_value = 113_360\n",
    "\n",
    "label, probs = best_model.predict_one(text, duration, sum_value, word2ind)\n",
    "print('Классификация: ', label, label2okpdname[label])\n",
    "print('Вероятности классов: ', probs)"
   ]
  }
 ],
 "metadata": {
  "kernelspec": {
   "display_name": "Python 3 (ipykernel)",
   "language": "python",
   "name": "python3"
  },
  "language_info": {
   "codemirror_mode": {
    "name": "ipython",
    "version": 3
   },
   "file_extension": ".py",
   "mimetype": "text/x-python",
   "name": "python",
   "nbconvert_exporter": "python",
   "pygments_lexer": "ipython3",
   "version": "3.12.3"
  }
 },
 "nbformat": 4,
 "nbformat_minor": 5
}
